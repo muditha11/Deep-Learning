{
  "nbformat": 4,
  "nbformat_minor": 0,
  "metadata": {
    "colab": {
      "provenance": [],
      "collapsed_sections": [
        "KAZFMTeo28jD",
        "NVzbkhVI-erd",
        "iOCZJht9-2PE",
        "2unqL_uoBqrZ"
      ],
      "authorship_tag": "ABX9TyMHKnrxm+CapOP6+DDI/J8W",
      "include_colab_link": true
    },
    "kernelspec": {
      "name": "python3",
      "display_name": "Python 3"
    },
    "language_info": {
      "name": "python"
    },
    "gpuClass": "standard"
  },
  "cells": [
    {
      "cell_type": "markdown",
      "metadata": {
        "id": "view-in-github",
        "colab_type": "text"
      },
      "source": [
        "<a href=\"https://colab.research.google.com/github/muditha11/Deep-Learning/blob/main/00_pytorch_fundamentals.ipynb\" target=\"_parent\"><img src=\"https://colab.research.google.com/assets/colab-badge.svg\" alt=\"Open In Colab\"/></a>"
      ]
    },
    {
      "cell_type": "markdown",
      "source": [
        "## 00 Pytorch Fundamentals"
      ],
      "metadata": {
        "id": "1CM61NQw01mw"
      }
    },
    {
      "cell_type": "markdown",
      "source": [
        "Select GPU from runtime-->change runtime"
      ],
      "metadata": {
        "id": "jrbDrWgI0iGL"
      }
    },
    {
      "cell_type": "code",
      "source": [
        "!nvidia-smi"
      ],
      "metadata": {
        "colab": {
          "base_uri": "https://localhost:8080/"
        },
        "id": "Fx6eKhuCyc6K",
        "outputId": "3eb8a5ae-8136-4abb-aa1b-75c0db901fba"
      },
      "execution_count": null,
      "outputs": [
        {
          "output_type": "stream",
          "name": "stdout",
          "text": [
            "Tue Jan 17 14:12:27 2023       \n",
            "+-----------------------------------------------------------------------------+\n",
            "| NVIDIA-SMI 460.32.03    Driver Version: 460.32.03    CUDA Version: 11.2     |\n",
            "|-------------------------------+----------------------+----------------------+\n",
            "| GPU  Name        Persistence-M| Bus-Id        Disp.A | Volatile Uncorr. ECC |\n",
            "| Fan  Temp  Perf  Pwr:Usage/Cap|         Memory-Usage | GPU-Util  Compute M. |\n",
            "|                               |                      |               MIG M. |\n",
            "|===============================+======================+======================|\n",
            "|   0  Tesla T4            Off  | 00000000:00:04.0 Off |                    0 |\n",
            "| N/A   61C    P8    12W /  70W |      0MiB / 15109MiB |      0%      Default |\n",
            "|                               |                      |                  N/A |\n",
            "+-------------------------------+----------------------+----------------------+\n",
            "                                                                               \n",
            "+-----------------------------------------------------------------------------+\n",
            "| Processes:                                                                  |\n",
            "|  GPU   GI   CI        PID   Type   Process name                  GPU Memory |\n",
            "|        ID   ID                                                   Usage      |\n",
            "|=============================================================================|\n",
            "|  No running processes found                                                 |\n",
            "+-----------------------------------------------------------------------------+\n"
          ]
        }
      ]
    },
    {
      "cell_type": "code",
      "source": [
        "import torch\n",
        "import pandas as pd\n",
        "import numpy as np\n",
        "import matplotlib.pyplot as plt\n",
        "print(torch.__version__)"
      ],
      "metadata": {
        "colab": {
          "base_uri": "https://localhost:8080/"
        },
        "id": "YZpAaKqs0qvt",
        "outputId": "42121860-c10e-4a72-c8a5-94325fd7e44d"
      },
      "execution_count": null,
      "outputs": [
        {
          "output_type": "stream",
          "name": "stdout",
          "text": [
            "1.13.0+cu116\n"
          ]
        }
      ]
    },
    {
      "cell_type": "markdown",
      "source": [
        "### #Tensors"
      ],
      "metadata": {
        "id": "KAZFMTeo28jD"
      }
    },
    {
      "cell_type": "code",
      "source": [
        "#scalar\n",
        "scalar = torch.tensor(7)\n",
        "scalar"
      ],
      "metadata": {
        "colab": {
          "base_uri": "https://localhost:8080/"
        },
        "id": "J0dbB-MH1JK1",
        "outputId": "11ce3b23-286d-4815-dacd-7b7b4a7b6ce4"
      },
      "execution_count": null,
      "outputs": [
        {
          "output_type": "execute_result",
          "data": {
            "text/plain": [
              "tensor(7)"
            ]
          },
          "metadata": {},
          "execution_count": 5
        }
      ]
    },
    {
      "cell_type": "code",
      "source": [
        "scalar.dtype"
      ],
      "metadata": {
        "colab": {
          "base_uri": "https://localhost:8080/"
        },
        "id": "6j7ICgx7F6Tp",
        "outputId": "68f8ed37-7e49-4f46-fbde-effa41dd5d98"
      },
      "execution_count": null,
      "outputs": [
        {
          "output_type": "execute_result",
          "data": {
            "text/plain": [
              "torch.int64"
            ]
          },
          "metadata": {},
          "execution_count": 6
        }
      ]
    },
    {
      "cell_type": "code",
      "source": [
        "scalar.ndim"
      ],
      "metadata": {
        "colab": {
          "base_uri": "https://localhost:8080/"
        },
        "id": "eNvVMefj20CX",
        "outputId": "ce97be46-970a-49da-babe-6add29cfe58c"
      },
      "execution_count": null,
      "outputs": [
        {
          "output_type": "execute_result",
          "data": {
            "text/plain": [
              "0"
            ]
          },
          "metadata": {},
          "execution_count": 7
        }
      ]
    },
    {
      "cell_type": "code",
      "source": [
        "#scalar to int \n",
        "scalar.item()"
      ],
      "metadata": {
        "colab": {
          "base_uri": "https://localhost:8080/"
        },
        "id": "6kUaKtyV3mnm",
        "outputId": "330daafe-3342-41d8-93ff-747d938fe7eb"
      },
      "execution_count": null,
      "outputs": [
        {
          "output_type": "execute_result",
          "data": {
            "text/plain": [
              "7"
            ]
          },
          "metadata": {},
          "execution_count": 8
        }
      ]
    },
    {
      "cell_type": "code",
      "source": [
        "#Vector\n",
        "vector = torch.tensor([7,7])\n",
        "vector"
      ],
      "metadata": {
        "colab": {
          "base_uri": "https://localhost:8080/"
        },
        "id": "FaxWeOmH3p0F",
        "outputId": "2b93da6d-9fdd-4c35-d8f6-87260d06db59"
      },
      "execution_count": null,
      "outputs": [
        {
          "output_type": "execute_result",
          "data": {
            "text/plain": [
              "tensor([7, 7])"
            ]
          },
          "metadata": {},
          "execution_count": 9
        }
      ]
    },
    {
      "cell_type": "code",
      "source": [
        "vector.ndim"
      ],
      "metadata": {
        "colab": {
          "base_uri": "https://localhost:8080/"
        },
        "id": "qjTQgxVv3xiM",
        "outputId": "11555f49-0f54-433a-fc3b-c765858a7e42"
      },
      "execution_count": null,
      "outputs": [
        {
          "output_type": "execute_result",
          "data": {
            "text/plain": [
              "1"
            ]
          },
          "metadata": {},
          "execution_count": 8
        }
      ]
    },
    {
      "cell_type": "code",
      "source": [
        "vector.shape"
      ],
      "metadata": {
        "colab": {
          "base_uri": "https://localhost:8080/"
        },
        "id": "V7fMli_A39AX",
        "outputId": "f793f57c-6daa-4aa8-a0c4-2fa39b086679"
      },
      "execution_count": null,
      "outputs": [
        {
          "output_type": "execute_result",
          "data": {
            "text/plain": [
              "torch.Size([2])"
            ]
          },
          "metadata": {},
          "execution_count": 9
        }
      ]
    },
    {
      "cell_type": "code",
      "source": [
        "#Matrix\n",
        "\n",
        "MATRIX = torch.tensor([[7,8],\n",
        "                        [9,10]])\n",
        "\n",
        "MATRIX"
      ],
      "metadata": {
        "colab": {
          "base_uri": "https://localhost:8080/"
        },
        "id": "NooRuwS04Cp1",
        "outputId": "8b36f9ce-80f1-451f-86c8-f7f485d955c0"
      },
      "execution_count": null,
      "outputs": [
        {
          "output_type": "execute_result",
          "data": {
            "text/plain": [
              "tensor([[ 7,  8],\n",
              "        [ 9, 10]])"
            ]
          },
          "metadata": {},
          "execution_count": 10
        }
      ]
    },
    {
      "cell_type": "code",
      "source": [
        "MATRIX.ndim"
      ],
      "metadata": {
        "colab": {
          "base_uri": "https://localhost:8080/"
        },
        "id": "6-1dV8gE4Xbm",
        "outputId": "5aff024b-dfcf-4ac4-bbb4-098ea452b41d"
      },
      "execution_count": null,
      "outputs": [
        {
          "output_type": "execute_result",
          "data": {
            "text/plain": [
              "2"
            ]
          },
          "metadata": {},
          "execution_count": 11
        }
      ]
    },
    {
      "cell_type": "code",
      "source": [
        "MATRIX[0]"
      ],
      "metadata": {
        "colab": {
          "base_uri": "https://localhost:8080/"
        },
        "id": "lKaEqPAG4drt",
        "outputId": "dd0132f2-4b6f-4b76-e3c1-45b9de797bd3"
      },
      "execution_count": null,
      "outputs": [
        {
          "output_type": "execute_result",
          "data": {
            "text/plain": [
              "tensor([7, 8])"
            ]
          },
          "metadata": {},
          "execution_count": 12
        }
      ]
    },
    {
      "cell_type": "code",
      "source": [
        "#TENSOR\n",
        "TENSOR = torch.tensor([[[1,2,3],\n",
        "                        [4,5,6],\n",
        "                        [7,8,9]]])\n",
        "\n",
        "TENSOR"
      ],
      "metadata": {
        "colab": {
          "base_uri": "https://localhost:8080/"
        },
        "id": "gba1bJy14lK0",
        "outputId": "d7e7f1b5-9317-473c-c397-bed1e44d87e0"
      },
      "execution_count": null,
      "outputs": [
        {
          "output_type": "execute_result",
          "data": {
            "text/plain": [
              "tensor([[[1, 2, 3],\n",
              "         [4, 5, 6],\n",
              "         [7, 8, 9]]])"
            ]
          },
          "metadata": {},
          "execution_count": 13
        }
      ]
    },
    {
      "cell_type": "code",
      "source": [
        "TENSOR.ndim"
      ],
      "metadata": {
        "colab": {
          "base_uri": "https://localhost:8080/"
        },
        "id": "rBA5QE_G4-PI",
        "outputId": "5a629288-dd78-4b8b-f092-bace51627949"
      },
      "execution_count": null,
      "outputs": [
        {
          "output_type": "execute_result",
          "data": {
            "text/plain": [
              "3"
            ]
          },
          "metadata": {},
          "execution_count": 14
        }
      ]
    },
    {
      "cell_type": "code",
      "source": [
        "TENSOR[0]"
      ],
      "metadata": {
        "colab": {
          "base_uri": "https://localhost:8080/"
        },
        "id": "jrnL0lZe5F5O",
        "outputId": "267d6283-79f6-4650-ecf1-77a6d65f7273"
      },
      "execution_count": null,
      "outputs": [
        {
          "output_type": "execute_result",
          "data": {
            "text/plain": [
              "tensor([[1, 2, 3],\n",
              "        [4, 5, 6],\n",
              "        [7, 8, 9]])"
            ]
          },
          "metadata": {},
          "execution_count": 15
        }
      ]
    },
    {
      "cell_type": "code",
      "source": [
        "TENSOR[0][0]"
      ],
      "metadata": {
        "colab": {
          "base_uri": "https://localhost:8080/"
        },
        "id": "GDKyLhas5Rpz",
        "outputId": "a4437c40-f2a0-47aa-cff0-3fa242de57e8"
      },
      "execution_count": null,
      "outputs": [
        {
          "output_type": "execute_result",
          "data": {
            "text/plain": [
              "tensor([1, 2, 3])"
            ]
          },
          "metadata": {},
          "execution_count": 16
        }
      ]
    },
    {
      "cell_type": "markdown",
      "source": [
        "![image.png](data:image/png;base64,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)"
      ],
      "metadata": {
        "id": "SbmcbpO15e0Q"
      }
    },
    {
      "cell_type": "markdown",
      "source": [
        "![image.png](data:image/png;base64,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)"
      ],
      "metadata": {
        "id": "YJbpadew6AaU"
      }
    },
    {
      "cell_type": "code",
      "source": [],
      "metadata": {
        "id": "7qyddJ_66dtl"
      },
      "execution_count": null,
      "outputs": []
    },
    {
      "cell_type": "code",
      "source": [
        "#Random Tensors\n",
        "# Neural Networks start with random tensors and continue to update them"
      ],
      "metadata": {
        "id": "drjOkP595Txt"
      },
      "execution_count": null,
      "outputs": []
    },
    {
      "cell_type": "code",
      "source": [
        "#Random Tensor of size (3,4)\n",
        "random_tensor = torch.rand(3,4)\n",
        "random_tensor"
      ],
      "metadata": {
        "colab": {
          "base_uri": "https://localhost:8080/"
        },
        "id": "zJipbn0p6SCJ",
        "outputId": "f04fb29e-9417-4172-eb55-74a96a595d25"
      },
      "execution_count": null,
      "outputs": [
        {
          "output_type": "execute_result",
          "data": {
            "text/plain": [
              "tensor([[0.1693, 0.4679, 0.6747, 0.6886],\n",
              "        [0.0784, 0.0166, 0.3937, 0.4632],\n",
              "        [0.5848, 0.3511, 0.5376, 0.2317]])"
            ]
          },
          "metadata": {},
          "execution_count": 18
        }
      ]
    },
    {
      "cell_type": "code",
      "source": [
        "#Random Tensor with similar shape to an image tensor\n",
        "random_image_size_tensor = torch.rand(size=(224,224,3)) #height,width,color (RGB)\n",
        "random_image_size_tensor.shape"
      ],
      "metadata": {
        "colab": {
          "base_uri": "https://localhost:8080/"
        },
        "id": "hjZgA1dv6vEF",
        "outputId": "1ae99c0c-76f5-4980-b6b6-2ddf9b1e0fe1"
      },
      "execution_count": null,
      "outputs": [
        {
          "output_type": "execute_result",
          "data": {
            "text/plain": [
              "torch.Size([224, 224, 3])"
            ]
          },
          "metadata": {},
          "execution_count": 19
        }
      ]
    },
    {
      "cell_type": "code",
      "source": [
        "\n"
      ],
      "metadata": {
        "id": "77dnmrI69pbk"
      },
      "execution_count": null,
      "outputs": []
    },
    {
      "cell_type": "markdown",
      "source": [
        "### #Zeros and Ones"
      ],
      "metadata": {
        "id": "NVzbkhVI-erd"
      }
    },
    {
      "cell_type": "code",
      "source": [
        "zeros = torch.zeros(size=(3,4))\n",
        "zeros"
      ],
      "metadata": {
        "colab": {
          "base_uri": "https://localhost:8080/"
        },
        "id": "lbcgbbRw9-G-",
        "outputId": "c158bea3-fb20-4ce8-ce86-a97815b10986"
      },
      "execution_count": null,
      "outputs": [
        {
          "output_type": "execute_result",
          "data": {
            "text/plain": [
              "tensor([[0., 0., 0., 0.],\n",
              "        [0., 0., 0., 0.],\n",
              "        [0., 0., 0., 0.]])"
            ]
          },
          "metadata": {},
          "execution_count": 20
        }
      ]
    },
    {
      "cell_type": "code",
      "source": [
        "ones = torch.ones(size=(3,4))\n",
        "ones"
      ],
      "metadata": {
        "colab": {
          "base_uri": "https://localhost:8080/"
        },
        "id": "IdsaePjs-F5n",
        "outputId": "f64ea09e-dc06-4134-88b2-39cd0b8b76d9"
      },
      "execution_count": null,
      "outputs": [
        {
          "output_type": "execute_result",
          "data": {
            "text/plain": [
              "tensor([[1., 1., 1., 1.],\n",
              "        [1., 1., 1., 1.],\n",
              "        [1., 1., 1., 1.]])"
            ]
          },
          "metadata": {},
          "execution_count": 21
        }
      ]
    },
    {
      "cell_type": "code",
      "source": [],
      "metadata": {
        "id": "_x2j4DFm-PCb"
      },
      "execution_count": null,
      "outputs": []
    },
    {
      "cell_type": "markdown",
      "source": [
        "### Range of tensors and tensors-like"
      ],
      "metadata": {
        "id": "iOCZJht9-2PE"
      }
    },
    {
      "cell_type": "code",
      "source": [
        "x = torch.arange(0,10)\n",
        "x"
      ],
      "metadata": {
        "colab": {
          "base_uri": "https://localhost:8080/"
        },
        "id": "1EMChwC6-6DW",
        "outputId": "025ee2e0-c683-497c-8853-073dd7ca5c3c"
      },
      "execution_count": null,
      "outputs": [
        {
          "output_type": "execute_result",
          "data": {
            "text/plain": [
              "tensor([0, 1, 2, 3, 4, 5, 6, 7, 8, 9])"
            ]
          },
          "metadata": {},
          "execution_count": 22
        }
      ]
    },
    {
      "cell_type": "code",
      "source": [
        "torch.arange(0,100,7)  #step=7"
      ],
      "metadata": {
        "colab": {
          "base_uri": "https://localhost:8080/"
        },
        "id": "-c2VRtZv-9c0",
        "outputId": "e7cebd59-69c8-4f4a-efaf-026a0a493916"
      },
      "execution_count": null,
      "outputs": [
        {
          "output_type": "execute_result",
          "data": {
            "text/plain": [
              "tensor([ 0,  7, 14, 21, 28, 35, 42, 49, 56, 63, 70, 77, 84, 91, 98])"
            ]
          },
          "metadata": {},
          "execution_count": 23
        }
      ]
    },
    {
      "cell_type": "code",
      "source": [
        "ten_zeros_like = torch.zeros_like(input=x)\n",
        "ten_zeros_like"
      ],
      "metadata": {
        "colab": {
          "base_uri": "https://localhost:8080/"
        },
        "id": "nXcYsGFS_VaY",
        "outputId": "78d76598-9385-4b2c-9e40-968cf1d30d07"
      },
      "execution_count": null,
      "outputs": [
        {
          "output_type": "execute_result",
          "data": {
            "text/plain": [
              "tensor([0, 0, 0, 0, 0, 0, 0, 0, 0, 0])"
            ]
          },
          "metadata": {},
          "execution_count": 24
        }
      ]
    },
    {
      "cell_type": "markdown",
      "source": [
        "### Tensor Data Types"
      ],
      "metadata": {
        "id": "2unqL_uoBqrZ"
      }
    },
    {
      "cell_type": "code",
      "source": [
        "float_32_tensor = torch.tensor([3.0,6.0,9.0],\n",
        "                               dtype = None,           #data type 16,32 bit floating point most used\n",
        "                               device=None,            #default=cpu , can change to \"cuda\"\n",
        "                               requires_grad=False)     #whether or not to track gradient with this tensors ops\n",
        "float_32_tensor"
      ],
      "metadata": {
        "colab": {
          "base_uri": "https://localhost:8080/"
        },
        "id": "DU-mJxgGBpvM",
        "outputId": "8b62974f-f609-46fe-9c7e-baaea3427392"
      },
      "execution_count": null,
      "outputs": [
        {
          "output_type": "execute_result",
          "data": {
            "text/plain": [
              "tensor([3., 6., 9.])"
            ]
          },
          "metadata": {},
          "execution_count": 25
        }
      ]
    },
    {
      "cell_type": "code",
      "source": [
        "float_32_tensor.dtype"
      ],
      "metadata": {
        "colab": {
          "base_uri": "https://localhost:8080/"
        },
        "id": "PLEYuYrPo8qX",
        "outputId": "f5134d02-2e88-450e-8fbf-aefcfeed8974"
      },
      "execution_count": null,
      "outputs": [
        {
          "output_type": "execute_result",
          "data": {
            "text/plain": [
              "torch.float32"
            ]
          },
          "metadata": {},
          "execution_count": 26
        }
      ]
    },
    {
      "cell_type": "markdown",
      "source": [
        "### Problems which occur when working with tensors\n",
        "\n",
        "\n",
        "*   Tensors not right data type\n",
        "\n",
        "> To get datatype use `tensor.dtype`\n",
        "\n",
        "\n",
        "*   Tensors not right shape\n",
        "\n",
        "\n",
        "> To get shape use `tensor.shape`\n",
        "\n",
        "\n",
        "\n",
        "*   Tensors not on right device\n",
        "\n",
        "\n",
        "\n",
        "> To get device use `tensor.device`\n",
        "\n",
        "\n",
        "\n",
        "\n",
        "\n"
      ],
      "metadata": {
        "id": "nNEgY9ECqKgj"
      }
    },
    {
      "cell_type": "code",
      "source": [
        "#converting type\n",
        "float_16_tensor = float_32_tensor.type(torch.float16)\n",
        "float_16_tensor"
      ],
      "metadata": {
        "colab": {
          "base_uri": "https://localhost:8080/"
        },
        "id": "JwQGtBSXpDRw",
        "outputId": "64578e00-90f6-4a04-f019-f2e9c3327df3"
      },
      "execution_count": null,
      "outputs": [
        {
          "output_type": "execute_result",
          "data": {
            "text/plain": [
              "tensor([3., 6., 9.], dtype=torch.float16)"
            ]
          },
          "metadata": {},
          "execution_count": 27
        }
      ]
    },
    {
      "cell_type": "markdown",
      "source": [
        "## Tensor Operations\n"
      ],
      "metadata": {
        "id": "OgudECdUwfrj"
      }
    },
    {
      "cell_type": "markdown",
      "source": [
        "### Operations"
      ],
      "metadata": {
        "id": "F_rHzSvfX-Qb"
      }
    },
    {
      "cell_type": "code",
      "source": [
        "#Add\n",
        "tensor = torch.tensor([1,2,3])\n",
        "tensor+10"
      ],
      "metadata": {
        "colab": {
          "base_uri": "https://localhost:8080/"
        },
        "id": "MWLka_ZAsMKD",
        "outputId": "e2f77119-ce9c-450a-9c52-37ec82c3bd62"
      },
      "execution_count": null,
      "outputs": [
        {
          "output_type": "execute_result",
          "data": {
            "text/plain": [
              "tensor([11, 12, 13])"
            ]
          },
          "metadata": {},
          "execution_count": 28
        }
      ]
    },
    {
      "cell_type": "code",
      "source": [
        "tensor*10"
      ],
      "metadata": {
        "colab": {
          "base_uri": "https://localhost:8080/"
        },
        "id": "v48Kpegbw9SY",
        "outputId": "c74609e6-b18d-4b1e-dfbe-7297ddd8979f"
      },
      "execution_count": null,
      "outputs": [
        {
          "output_type": "execute_result",
          "data": {
            "text/plain": [
              "tensor([10, 20, 30])"
            ]
          },
          "metadata": {},
          "execution_count": 29
        }
      ]
    },
    {
      "cell_type": "markdown",
      "source": [
        "### Matrix Multiplication"
      ],
      "metadata": {
        "id": "POGfEFpfxoD-"
      }
    },
    {
      "cell_type": "code",
      "source": [
        "#Element wise\n",
        "tensor*tensor"
      ],
      "metadata": {
        "colab": {
          "base_uri": "https://localhost:8080/"
        },
        "id": "1oAAvzFSxnjv",
        "outputId": "99b87f05-fd73-47a7-e39d-f4fa2d4d37a2"
      },
      "execution_count": null,
      "outputs": [
        {
          "output_type": "execute_result",
          "data": {
            "text/plain": [
              "tensor([1, 4, 9])"
            ]
          },
          "metadata": {},
          "execution_count": 30
        }
      ]
    },
    {
      "cell_type": "code",
      "source": [
        "#Matrix Multiplication\n",
        "%%time \n",
        "torch.matmul(tensor,tensor)"
      ],
      "metadata": {
        "colab": {
          "base_uri": "https://localhost:8080/"
        },
        "id": "qWlfoCI9w_t1",
        "outputId": "4fd2fe16-6fd9-4e11-955c-d3e982297818"
      },
      "execution_count": null,
      "outputs": [
        {
          "output_type": "stream",
          "name": "stdout",
          "text": [
            "CPU times: user 2.2 ms, sys: 2.86 ms, total: 5.06 ms\n",
            "Wall time: 6.65 ms\n"
          ]
        },
        {
          "output_type": "execute_result",
          "data": {
            "text/plain": [
              "tensor(14)"
            ]
          },
          "metadata": {},
          "execution_count": 31
        }
      ]
    },
    {
      "cell_type": "code",
      "source": [
        "tensor @ tensor"
      ],
      "metadata": {
        "colab": {
          "base_uri": "https://localhost:8080/"
        },
        "id": "QhalGii_yCCJ",
        "outputId": "b5ba815a-e90d-405f-d603-9fa4dc150a03"
      },
      "execution_count": null,
      "outputs": [
        {
          "output_type": "execute_result",
          "data": {
            "text/plain": [
              "tensor(14)"
            ]
          },
          "metadata": {},
          "execution_count": 32
        }
      ]
    },
    {
      "cell_type": "code",
      "source": [
        "#transpose\n",
        "x = torch.tensor([[1,2,3],\n",
        "                  [4,5,6]])\n",
        "x.T"
      ],
      "metadata": {
        "colab": {
          "base_uri": "https://localhost:8080/"
        },
        "id": "052KV_HA0CCW",
        "outputId": "93c1760c-7029-467e-eefd-48104124a1b6"
      },
      "execution_count": null,
      "outputs": [
        {
          "output_type": "execute_result",
          "data": {
            "text/plain": [
              "tensor([[1, 4],\n",
              "        [2, 5],\n",
              "        [3, 6]])"
            ]
          },
          "metadata": {},
          "execution_count": 33
        }
      ]
    },
    {
      "cell_type": "markdown",
      "source": [
        "### Tensor Aggregation (Min,Max,Mean,Sum)"
      ],
      "metadata": {
        "id": "U_5lNsIMNVpO"
      }
    },
    {
      "cell_type": "code",
      "source": [
        "x = torch.arange(0,100,10)\n",
        "x"
      ],
      "metadata": {
        "colab": {
          "base_uri": "https://localhost:8080/"
        },
        "id": "NjwXp9hy0Xg5",
        "outputId": "1c83d24a-6e3b-4e65-f5bf-205d5500808b"
      },
      "execution_count": null,
      "outputs": [
        {
          "output_type": "execute_result",
          "data": {
            "text/plain": [
              "tensor([ 0, 10, 20, 30, 40, 50, 60, 70, 80, 90])"
            ]
          },
          "metadata": {},
          "execution_count": 34
        }
      ]
    },
    {
      "cell_type": "code",
      "source": [
        "torch.min(x)"
      ],
      "metadata": {
        "colab": {
          "base_uri": "https://localhost:8080/"
        },
        "id": "1nIs-O4LNjNc",
        "outputId": "ed6d1f66-0686-4fb3-dc95-8f1ea1e6012e"
      },
      "execution_count": null,
      "outputs": [
        {
          "output_type": "execute_result",
          "data": {
            "text/plain": [
              "tensor(0)"
            ]
          },
          "metadata": {},
          "execution_count": 35
        }
      ]
    },
    {
      "cell_type": "code",
      "source": [
        "x.min(),x.max(),x.sum()"
      ],
      "metadata": {
        "colab": {
          "base_uri": "https://localhost:8080/"
        },
        "id": "PayqBOAANlL4",
        "outputId": "d3bf4340-4455-4f57-ba61-8bbbb884655e"
      },
      "execution_count": null,
      "outputs": [
        {
          "output_type": "execute_result",
          "data": {
            "text/plain": [
              "(tensor(0), tensor(90), tensor(450))"
            ]
          },
          "metadata": {},
          "execution_count": 36
        }
      ]
    },
    {
      "cell_type": "code",
      "source": [
        "x.type(torch.float32).mean()"
      ],
      "metadata": {
        "colab": {
          "base_uri": "https://localhost:8080/"
        },
        "id": "QobGkt5pNyVX",
        "outputId": "16091bfe-3f42-461f-e234-fab16baf59e8"
      },
      "execution_count": null,
      "outputs": [
        {
          "output_type": "execute_result",
          "data": {
            "text/plain": [
              "tensor(45.)"
            ]
          },
          "metadata": {},
          "execution_count": 37
        }
      ]
    },
    {
      "cell_type": "code",
      "source": [
        "x.argmin() #index of minimum"
      ],
      "metadata": {
        "colab": {
          "base_uri": "https://localhost:8080/"
        },
        "id": "lWpLeeKiOL-P",
        "outputId": "d0b8f81f-b15e-48c4-a598-a0e21d069522"
      },
      "execution_count": null,
      "outputs": [
        {
          "output_type": "execute_result",
          "data": {
            "text/plain": [
              "tensor(0)"
            ]
          },
          "metadata": {},
          "execution_count": 38
        }
      ]
    },
    {
      "cell_type": "code",
      "source": [
        "x.argmax()"
      ],
      "metadata": {
        "colab": {
          "base_uri": "https://localhost:8080/"
        },
        "id": "3ri2EkumO6MO",
        "outputId": "2ec6706b-0baf-4bf7-8363-fadbb611f225"
      },
      "execution_count": null,
      "outputs": [
        {
          "output_type": "execute_result",
          "data": {
            "text/plain": [
              "tensor(9)"
            ]
          },
          "metadata": {},
          "execution_count": 39
        }
      ]
    },
    {
      "cell_type": "markdown",
      "source": [
        "### Reshaping,View,Stacking,Squeezing,Unsqueezing,Permute"
      ],
      "metadata": {
        "id": "aB_kD1rpPbmx"
      }
    },
    {
      "cell_type": "code",
      "source": [
        "x = torch.arange(1,11)\n",
        "x"
      ],
      "metadata": {
        "colab": {
          "base_uri": "https://localhost:8080/"
        },
        "id": "aP7OMLzUO-cq",
        "outputId": "64fd8e72-c5ae-4156-a8e9-5a10aed705b6"
      },
      "execution_count": null,
      "outputs": [
        {
          "output_type": "execute_result",
          "data": {
            "text/plain": [
              "tensor([ 1,  2,  3,  4,  5,  6,  7,  8,  9, 10])"
            ]
          },
          "metadata": {},
          "execution_count": 40
        }
      ]
    },
    {
      "cell_type": "code",
      "source": [
        "x.reshape(2,5)"
      ],
      "metadata": {
        "colab": {
          "base_uri": "https://localhost:8080/"
        },
        "id": "q_Niyck7RV05",
        "outputId": "ebe7d884-d337-425d-8831-5931393828d9"
      },
      "execution_count": null,
      "outputs": [
        {
          "output_type": "execute_result",
          "data": {
            "text/plain": [
              "tensor([[ 1,  2,  3,  4,  5],\n",
              "        [ 6,  7,  8,  9, 10]])"
            ]
          },
          "metadata": {},
          "execution_count": 41
        }
      ]
    },
    {
      "cell_type": "code",
      "source": [
        "z = x.view(2,5)\n",
        "#z and x share same memory,changes in z changes x\n",
        "z"
      ],
      "metadata": {
        "colab": {
          "base_uri": "https://localhost:8080/"
        },
        "id": "cc3-55N8RZS7",
        "outputId": "139ce2a4-b3b2-43ed-ac12-c251de0bb60a"
      },
      "execution_count": null,
      "outputs": [
        {
          "output_type": "execute_result",
          "data": {
            "text/plain": [
              "tensor([[ 1,  2,  3,  4,  5],\n",
              "        [ 6,  7,  8,  9, 10]])"
            ]
          },
          "metadata": {},
          "execution_count": 42
        }
      ]
    },
    {
      "cell_type": "code",
      "source": [
        "x_stacked = torch.stack([x,x,x,x])\n",
        "x_stacked"
      ],
      "metadata": {
        "colab": {
          "base_uri": "https://localhost:8080/"
        },
        "id": "w7AcVmJ-RtLR",
        "outputId": "f29fbfa0-9900-4d7b-d8aa-400b548fb848"
      },
      "execution_count": null,
      "outputs": [
        {
          "output_type": "execute_result",
          "data": {
            "text/plain": [
              "tensor([[ 1,  2,  3,  4,  5,  6,  7,  8,  9, 10],\n",
              "        [ 1,  2,  3,  4,  5,  6,  7,  8,  9, 10],\n",
              "        [ 1,  2,  3,  4,  5,  6,  7,  8,  9, 10],\n",
              "        [ 1,  2,  3,  4,  5,  6,  7,  8,  9, 10]])"
            ]
          },
          "metadata": {},
          "execution_count": 43
        }
      ]
    },
    {
      "cell_type": "code",
      "source": [
        "x_stacked = torch.stack([x,x,x,x],dim=1)\n",
        "x_stacked"
      ],
      "metadata": {
        "colab": {
          "base_uri": "https://localhost:8080/"
        },
        "id": "QwHq6DznR2fO",
        "outputId": "4d4e997e-d5f9-431c-8046-ccdff53605be"
      },
      "execution_count": null,
      "outputs": [
        {
          "output_type": "execute_result",
          "data": {
            "text/plain": [
              "tensor([[ 1,  1,  1,  1],\n",
              "        [ 2,  2,  2,  2],\n",
              "        [ 3,  3,  3,  3],\n",
              "        [ 4,  4,  4,  4],\n",
              "        [ 5,  5,  5,  5],\n",
              "        [ 6,  6,  6,  6],\n",
              "        [ 7,  7,  7,  7],\n",
              "        [ 8,  8,  8,  8],\n",
              "        [ 9,  9,  9,  9],\n",
              "        [10, 10, 10, 10]])"
            ]
          },
          "metadata": {},
          "execution_count": 44
        }
      ]
    },
    {
      "cell_type": "code",
      "source": [
        "y = x.reshape(1,10)\n",
        "y.shape,y"
      ],
      "metadata": {
        "colab": {
          "base_uri": "https://localhost:8080/"
        },
        "id": "qbhjY589SxmZ",
        "outputId": "6848781b-299c-43bc-a78a-eafe00a193b1"
      },
      "execution_count": null,
      "outputs": [
        {
          "output_type": "execute_result",
          "data": {
            "text/plain": [
              "(torch.Size([1, 10]), tensor([[ 1,  2,  3,  4,  5,  6,  7,  8,  9, 10]]))"
            ]
          },
          "metadata": {},
          "execution_count": 45
        }
      ]
    },
    {
      "cell_type": "code",
      "source": [
        "y.squeeze(),y.squeeze().shape"
      ],
      "metadata": {
        "colab": {
          "base_uri": "https://localhost:8080/"
        },
        "id": "pjpebgF8TP87",
        "outputId": "f9453152-714b-427a-b029-09fb5fbace4e"
      },
      "execution_count": null,
      "outputs": [
        {
          "output_type": "execute_result",
          "data": {
            "text/plain": [
              "(tensor([ 1,  2,  3,  4,  5,  6,  7,  8,  9, 10]), torch.Size([10]))"
            ]
          },
          "metadata": {},
          "execution_count": 46
        }
      ]
    },
    {
      "cell_type": "code",
      "source": [
        "y.unsqueeze(dim=0),y.unsqueeze(dim=0).shape"
      ],
      "metadata": {
        "colab": {
          "base_uri": "https://localhost:8080/"
        },
        "id": "Wmi-RkwrTh-s",
        "outputId": "db081741-9c08-4b36-c53b-6811754a7b96"
      },
      "execution_count": null,
      "outputs": [
        {
          "output_type": "execute_result",
          "data": {
            "text/plain": [
              "(tensor([[[ 1,  2,  3,  4,  5,  6,  7,  8,  9, 10]]]), torch.Size([1, 1, 10]))"
            ]
          },
          "metadata": {},
          "execution_count": 47
        }
      ]
    },
    {
      "cell_type": "code",
      "source": [
        "y.permute(dims=(1,0))"
      ],
      "metadata": {
        "colab": {
          "base_uri": "https://localhost:8080/"
        },
        "id": "9OU7SywrTtuh",
        "outputId": "4d4ffc68-15dc-4e72-fb6c-7366e528e8de"
      },
      "execution_count": null,
      "outputs": [
        {
          "output_type": "execute_result",
          "data": {
            "text/plain": [
              "tensor([[ 1],\n",
              "        [ 2],\n",
              "        [ 3],\n",
              "        [ 4],\n",
              "        [ 5],\n",
              "        [ 6],\n",
              "        [ 7],\n",
              "        [ 8],\n",
              "        [ 9],\n",
              "        [10]])"
            ]
          },
          "metadata": {},
          "execution_count": 48
        }
      ]
    },
    {
      "cell_type": "markdown",
      "source": [
        "### Indexing"
      ],
      "metadata": {
        "id": "kW_tnvV6X1Nq"
      }
    },
    {
      "cell_type": "code",
      "source": [
        "x = torch.arange(1,10).reshape(1,3,3)\n",
        "x"
      ],
      "metadata": {
        "id": "zI10nlA6UHGi",
        "colab": {
          "base_uri": "https://localhost:8080/"
        },
        "outputId": "4bd80103-d564-46b8-976e-850a85e45551"
      },
      "execution_count": null,
      "outputs": [
        {
          "output_type": "execute_result",
          "data": {
            "text/plain": [
              "tensor([[[1, 2, 3],\n",
              "         [4, 5, 6],\n",
              "         [7, 8, 9]]])"
            ]
          },
          "metadata": {},
          "execution_count": 49
        }
      ]
    },
    {
      "cell_type": "code",
      "source": [
        "x[0][0]"
      ],
      "metadata": {
        "colab": {
          "base_uri": "https://localhost:8080/"
        },
        "id": "k-SJsFnkYPwe",
        "outputId": "c08b1af7-e6d8-4587-811f-38a731f3bfb1"
      },
      "execution_count": null,
      "outputs": [
        {
          "output_type": "execute_result",
          "data": {
            "text/plain": [
              "tensor([1, 2, 3])"
            ]
          },
          "metadata": {},
          "execution_count": 50
        }
      ]
    },
    {
      "cell_type": "code",
      "source": [
        "x[0][0][0:2]"
      ],
      "metadata": {
        "colab": {
          "base_uri": "https://localhost:8080/"
        },
        "id": "X6rt58cHYSPq",
        "outputId": "a81b1c30-17fd-4581-bfb1-b981b9f99df3"
      },
      "execution_count": null,
      "outputs": [
        {
          "output_type": "execute_result",
          "data": {
            "text/plain": [
              "tensor([1, 2])"
            ]
          },
          "metadata": {},
          "execution_count": 51
        }
      ]
    },
    {
      "cell_type": "markdown",
      "source": [
        "### Tensors and Numpy"
      ],
      "metadata": {
        "id": "muEj6P3VYjEu"
      }
    },
    {
      "cell_type": "markdown",
      "source": [
        "The two main methods you'll want to use for NumPy to PyTorch (and back again) are:\n",
        "\n",
        "1.   `torch.from_numpy(ndarray)` - NumPy array -> PyTorch tensor.\n",
        "2.   `torch.Tensor.numpy()` - PyTorch tensor -> NumPy array.\n",
        "\n"
      ],
      "metadata": {
        "id": "p3f9lXFXYziH"
      }
    },
    {
      "cell_type": "code",
      "source": [
        "#numpy-->pytorch\n",
        "arr = np.arange(1,10)\n",
        "tensor = torch.from_numpy(arr).type(torch.float32)\n",
        "arr,tensor"
      ],
      "metadata": {
        "colab": {
          "base_uri": "https://localhost:8080/"
        },
        "id": "YyRkeo-kYzEB",
        "outputId": "9944b048-1935-49ba-b0bf-2fd80fe85e7f"
      },
      "execution_count": null,
      "outputs": [
        {
          "output_type": "execute_result",
          "data": {
            "text/plain": [
              "(array([1, 2, 3, 4, 5, 6, 7, 8, 9]),\n",
              " tensor([1., 2., 3., 4., 5., 6., 7., 8., 9.]))"
            ]
          },
          "metadata": {},
          "execution_count": 52
        }
      ]
    },
    {
      "cell_type": "code",
      "source": [
        "arr = arr+1\n",
        "arr,tensor"
      ],
      "metadata": {
        "colab": {
          "base_uri": "https://localhost:8080/"
        },
        "id": "PYz51IppYqzO",
        "outputId": "351f6dbc-1efe-4aea-8fcf-57ca451ae446"
      },
      "execution_count": null,
      "outputs": [
        {
          "output_type": "execute_result",
          "data": {
            "text/plain": [
              "(array([ 2,  3,  4,  5,  6,  7,  8,  9, 10]),\n",
              " tensor([1., 2., 3., 4., 5., 6., 7., 8., 9.]))"
            ]
          },
          "metadata": {},
          "execution_count": 53
        }
      ]
    },
    {
      "cell_type": "code",
      "source": [
        "#torch-->numpy\n",
        "tensor = torch.ones(1,10)\n",
        "arr = tensor.numpy()\n",
        "tensor,arr"
      ],
      "metadata": {
        "colab": {
          "base_uri": "https://localhost:8080/"
        },
        "id": "SveUMcNTZ_oi",
        "outputId": "db3d1b4c-f8cb-48a1-b1c2-0a47d2105e2b"
      },
      "execution_count": null,
      "outputs": [
        {
          "output_type": "execute_result",
          "data": {
            "text/plain": [
              "(tensor([[1., 1., 1., 1., 1., 1., 1., 1., 1., 1.]]),\n",
              " array([[1., 1., 1., 1., 1., 1., 1., 1., 1., 1.]], dtype=float32))"
            ]
          },
          "metadata": {},
          "execution_count": 54
        }
      ]
    },
    {
      "cell_type": "code",
      "source": [
        "tensor = tensor+1\n",
        "tensor,arr"
      ],
      "metadata": {
        "colab": {
          "base_uri": "https://localhost:8080/"
        },
        "id": "ap44Uu-caXfA",
        "outputId": "c8f36eea-d5ea-4948-a7a6-28d0b0f9c14d"
      },
      "execution_count": null,
      "outputs": [
        {
          "output_type": "execute_result",
          "data": {
            "text/plain": [
              "(tensor([[2., 2., 2., 2., 2., 2., 2., 2., 2., 2.]]),\n",
              " array([[1., 1., 1., 1., 1., 1., 1., 1., 1., 1.]], dtype=float32))"
            ]
          },
          "metadata": {},
          "execution_count": 55
        }
      ]
    },
    {
      "cell_type": "markdown",
      "source": [
        "### Reproducibility"
      ],
      "metadata": {
        "id": "Z_j2Z9dXai0V"
      }
    },
    {
      "cell_type": "code",
      "source": [
        "A = torch.rand(3,4)\n",
        "B = torch.rand(3,4)\n",
        "A,B"
      ],
      "metadata": {
        "colab": {
          "base_uri": "https://localhost:8080/"
        },
        "id": "NEvC8MP6dhUR",
        "outputId": "5289d5ba-3e6c-4e3e-af80-03bedc87bd46"
      },
      "execution_count": null,
      "outputs": [
        {
          "output_type": "execute_result",
          "data": {
            "text/plain": [
              "(tensor([[0.6073, 0.6658, 0.8671, 0.0535],\n",
              "         [0.2489, 0.4308, 0.3706, 0.3708],\n",
              "         [0.9271, 0.2818, 0.7145, 0.8592]]),\n",
              " tensor([[0.0460, 0.0638, 0.2430, 0.0655],\n",
              "         [0.1836, 0.1743, 0.6844, 0.8860],\n",
              "         [0.3610, 0.0182, 0.4925, 0.8045]]))"
            ]
          },
          "metadata": {},
          "execution_count": 56
        }
      ]
    },
    {
      "cell_type": "code",
      "source": [
        "A==B"
      ],
      "metadata": {
        "colab": {
          "base_uri": "https://localhost:8080/"
        },
        "id": "HcPSi_nuaeHk",
        "outputId": "dcf01ce6-11c6-47a8-eece-68c5881e8847"
      },
      "execution_count": null,
      "outputs": [
        {
          "output_type": "execute_result",
          "data": {
            "text/plain": [
              "tensor([[False, False, False, False],\n",
              "        [False, False, False, False],\n",
              "        [False, False, False, False]])"
            ]
          },
          "metadata": {},
          "execution_count": 57
        }
      ]
    },
    {
      "cell_type": "code",
      "source": [
        "Random_Seed = 100\n",
        "torch.manual_seed(seed=Random_Seed)\n",
        "C = torch.rand(3,4)\n",
        "\n",
        "torch.manual_seed(seed=Random_Seed)\n",
        "D = torch.rand(3,4)\n",
        "\n",
        "C,D"
      ],
      "metadata": {
        "colab": {
          "base_uri": "https://localhost:8080/"
        },
        "id": "mFzvzW0edrMh",
        "outputId": "04f6dcc5-83dc-4c3a-ebd1-5d3d568289d0"
      },
      "execution_count": null,
      "outputs": [
        {
          "output_type": "execute_result",
          "data": {
            "text/plain": [
              "(tensor([[0.1117, 0.8158, 0.2626, 0.4839],\n",
              "         [0.6765, 0.7539, 0.2627, 0.0428],\n",
              "         [0.2080, 0.1180, 0.1217, 0.7356]]),\n",
              " tensor([[0.1117, 0.8158, 0.2626, 0.4839],\n",
              "         [0.6765, 0.7539, 0.2627, 0.0428],\n",
              "         [0.2080, 0.1180, 0.1217, 0.7356]]))"
            ]
          },
          "metadata": {},
          "execution_count": 58
        }
      ]
    },
    {
      "cell_type": "code",
      "source": [
        "C==D"
      ],
      "metadata": {
        "colab": {
          "base_uri": "https://localhost:8080/"
        },
        "id": "4-pQDW4_eLtu",
        "outputId": "fb44c01a-1007-49de-d1c0-85859e9c0570"
      },
      "execution_count": null,
      "outputs": [
        {
          "output_type": "execute_result",
          "data": {
            "text/plain": [
              "tensor([[True, True, True, True],\n",
              "        [True, True, True, True],\n",
              "        [True, True, True, True]])"
            ]
          },
          "metadata": {},
          "execution_count": 59
        }
      ]
    },
    {
      "cell_type": "markdown",
      "source": [
        "### Tensors on GPU"
      ],
      "metadata": {
        "id": "J9qz_91afJvH"
      }
    },
    {
      "cell_type": "code",
      "source": [
        "torch.cuda.is_available()"
      ],
      "metadata": {
        "colab": {
          "base_uri": "https://localhost:8080/"
        },
        "id": "kdFCmmIzeNVT",
        "outputId": "7bf85f1b-0f61-46f6-d167-ff7ae3591a9f"
      },
      "execution_count": null,
      "outputs": [
        {
          "output_type": "execute_result",
          "data": {
            "text/plain": [
              "True"
            ]
          },
          "metadata": {},
          "execution_count": 60
        }
      ]
    },
    {
      "cell_type": "code",
      "source": [
        "device = \"cuda\" if torch.cuda.is_available() else \"cpu\"\n",
        "device"
      ],
      "metadata": {
        "colab": {
          "base_uri": "https://localhost:8080/",
          "height": 35
        },
        "id": "Jlzj5wBdhAme",
        "outputId": "ed579caa-420e-41c3-b277-2180bc44c9ef"
      },
      "execution_count": null,
      "outputs": [
        {
          "output_type": "execute_result",
          "data": {
            "text/plain": [
              "'cuda'"
            ],
            "application/vnd.google.colaboratory.intrinsic+json": {
              "type": "string"
            }
          },
          "metadata": {},
          "execution_count": 61
        }
      ]
    },
    {
      "cell_type": "code",
      "source": [
        "torch.cuda.device_count()"
      ],
      "metadata": {
        "colab": {
          "base_uri": "https://localhost:8080/"
        },
        "id": "XrHkZ6YVhWZs",
        "outputId": "9300f185-a6a3-437d-f688-e2d1ed3b0f1c"
      },
      "execution_count": null,
      "outputs": [
        {
          "output_type": "execute_result",
          "data": {
            "text/plain": [
              "1"
            ]
          },
          "metadata": {},
          "execution_count": 62
        }
      ]
    },
    {
      "cell_type": "markdown",
      "source": [
        "### Putting Tensors on GPU"
      ],
      "metadata": {
        "id": "NzkThsk5iEjj"
      }
    },
    {
      "cell_type": "code",
      "source": [
        "#CPU-->GPU\n",
        "tensor = torch.tensor([1,2,3])\n",
        "tensor,tensor.device"
      ],
      "metadata": {
        "colab": {
          "base_uri": "https://localhost:8080/"
        },
        "id": "Ku4FgxfViH5W",
        "outputId": "f3e543fa-6535-4ee9-9818-e93e92a78091"
      },
      "execution_count": null,
      "outputs": [
        {
          "output_type": "execute_result",
          "data": {
            "text/plain": [
              "(tensor([1, 2, 3]), device(type='cpu'))"
            ]
          },
          "metadata": {},
          "execution_count": 65
        }
      ]
    },
    {
      "cell_type": "code",
      "source": [
        "tensor_gpu = tensor.to(device)\n",
        "tensor_gpu,tensor_gpu.device"
      ],
      "metadata": {
        "colab": {
          "base_uri": "https://localhost:8080/"
        },
        "id": "VRs4qVvkieVF",
        "outputId": "896cf063-e724-4315-fa86-d80b7037328b"
      },
      "execution_count": null,
      "outputs": [
        {
          "output_type": "execute_result",
          "data": {
            "text/plain": [
              "(tensor([1, 2, 3], device='cuda:0'), device(type='cuda', index=0))"
            ]
          },
          "metadata": {},
          "execution_count": 66
        }
      ]
    },
    {
      "cell_type": "code",
      "source": [
        "#CPU-->GPU\n",
        "#When tensor is on GPU we cant convery it to numpy\n",
        "tensor_gpu.numpy()"
      ],
      "metadata": {
        "colab": {
          "base_uri": "https://localhost:8080/",
          "height": 217
        },
        "id": "4mTv7xYaimvx",
        "outputId": "dc68bcf7-143b-4174-fc0d-12cfbc094f42"
      },
      "execution_count": null,
      "outputs": [
        {
          "output_type": "error",
          "ename": "TypeError",
          "evalue": "ignored",
          "traceback": [
            "\u001b[0;31m---------------------------------------------------------------------------\u001b[0m",
            "\u001b[0;31mTypeError\u001b[0m                                 Traceback (most recent call last)",
            "\u001b[0;32m<ipython-input-68-632a59fdbec7>\u001b[0m in \u001b[0;36m<module>\u001b[0;34m\u001b[0m\n\u001b[1;32m      1\u001b[0m \u001b[0;31m#CPU-->GPU\u001b[0m\u001b[0;34m\u001b[0m\u001b[0;34m\u001b[0m\u001b[0;34m\u001b[0m\u001b[0m\n\u001b[1;32m      2\u001b[0m \u001b[0;31m#When tensor is on GPU we cant convery it to numpy\u001b[0m\u001b[0;34m\u001b[0m\u001b[0;34m\u001b[0m\u001b[0;34m\u001b[0m\u001b[0m\n\u001b[0;32m----> 3\u001b[0;31m \u001b[0mtensor_gpu\u001b[0m\u001b[0;34m.\u001b[0m\u001b[0mnumpy\u001b[0m\u001b[0;34m(\u001b[0m\u001b[0;34m)\u001b[0m\u001b[0;34m\u001b[0m\u001b[0;34m\u001b[0m\u001b[0m\n\u001b[0m",
            "\u001b[0;31mTypeError\u001b[0m: can't convert cuda:0 device type tensor to numpy. Use Tensor.cpu() to copy the tensor to host memory first."
          ]
        }
      ]
    },
    {
      "cell_type": "code",
      "source": [
        "tensor_cpu = tensor_gpu.cpu()\n",
        "tensor_cpu.numpy()"
      ],
      "metadata": {
        "colab": {
          "base_uri": "https://localhost:8080/"
        },
        "id": "4iPC2QbbjORK",
        "outputId": "e3eb42b2-89e0-49e4-a4ea-d2cc64bf4049"
      },
      "execution_count": null,
      "outputs": [
        {
          "output_type": "execute_result",
          "data": {
            "text/plain": [
              "array([1, 2, 3])"
            ]
          },
          "metadata": {},
          "execution_count": 69
        }
      ]
    },
    {
      "cell_type": "markdown",
      "source": [
        "## Exercises"
      ],
      "metadata": {
        "id": "u30EtBaUkFE_"
      }
    },
    {
      "cell_type": "code",
      "source": [
        "a = torch.rand(7,7)\n",
        "a"
      ],
      "metadata": {
        "colab": {
          "base_uri": "https://localhost:8080/"
        },
        "id": "chYT1IjykIht",
        "outputId": "9949e8fd-0fbf-4605-e5bc-6f8a08fcd708"
      },
      "execution_count": null,
      "outputs": [
        {
          "output_type": "execute_result",
          "data": {
            "text/plain": [
              "tensor([[0.7118, 0.7876, 0.4183, 0.9014, 0.9969, 0.7565, 0.2239],\n",
              "        [0.3023, 0.1784, 0.8238, 0.5557, 0.9770, 0.4440, 0.9478],\n",
              "        [0.7445, 0.4892, 0.2426, 0.7003, 0.5277, 0.2472, 0.7909],\n",
              "        [0.4235, 0.0169, 0.2209, 0.9535, 0.7064, 0.1629, 0.8902],\n",
              "        [0.5163, 0.0359, 0.6476, 0.3430, 0.3182, 0.5261, 0.0447],\n",
              "        [0.5123, 0.9051, 0.5989, 0.4450, 0.7278, 0.4563, 0.3389],\n",
              "        [0.6211, 0.5530, 0.6896, 0.3687, 0.9053, 0.8356, 0.3039]])"
            ]
          },
          "metadata": {},
          "execution_count": 70
        }
      ]
    },
    {
      "cell_type": "code",
      "source": [
        "b = torch.rand(1,7)\n",
        "a@b.T"
      ],
      "metadata": {
        "colab": {
          "base_uri": "https://localhost:8080/"
        },
        "id": "d5d6NNaQkR1R",
        "outputId": "878cc722-bc68-4a96-8ec5-d9d2bc522c3d"
      },
      "execution_count": null,
      "outputs": [
        {
          "output_type": "execute_result",
          "data": {
            "text/plain": [
              "tensor([[2.1382],\n",
              "        [2.0473],\n",
              "        [1.5819],\n",
              "        [1.5302],\n",
              "        [1.4366],\n",
              "        [1.7534],\n",
              "        [2.0031]])"
            ]
          },
          "metadata": {},
          "execution_count": 72
        }
      ]
    },
    {
      "cell_type": "code",
      "source": [
        "random_seed = 0\n",
        "torch.manual_seed(seed=random_seed)\n",
        "c = torch.rand(7,7)\n",
        "d = torch.rand(1,7)\n",
        "c@d.T"
      ],
      "metadata": {
        "colab": {
          "base_uri": "https://localhost:8080/"
        },
        "id": "8r8vTHv7keH4",
        "outputId": "992a597f-1074-4665-9c38-0dc0216a75d6"
      },
      "execution_count": null,
      "outputs": [
        {
          "output_type": "execute_result",
          "data": {
            "text/plain": [
              "tensor([[1.8542],\n",
              "        [1.9611],\n",
              "        [2.2884],\n",
              "        [3.0481],\n",
              "        [1.7067],\n",
              "        [2.5290],\n",
              "        [1.7989]])"
            ]
          },
          "metadata": {},
          "execution_count": 73
        }
      ]
    },
    {
      "cell_type": "code",
      "source": [],
      "metadata": {
        "id": "e6tRZkTdk1dL"
      },
      "execution_count": null,
      "outputs": []
    }
  ]
}